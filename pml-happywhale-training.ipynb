{
 "cells": [
  {
   "cell_type": "code",
   "execution_count": 1,
   "id": "7fb53915",
   "metadata": {
    "execution": {
     "iopub.execute_input": "2022-11-21T00:23:01.603877Z",
     "iopub.status.busy": "2022-11-21T00:23:01.603247Z",
     "iopub.status.idle": "2022-11-21T00:23:18.346512Z",
     "shell.execute_reply": "2022-11-21T00:23:18.345391Z"
    },
    "papermill": {
     "duration": 16.757491,
     "end_time": "2022-11-21T00:23:18.349151",
     "exception": false,
     "start_time": "2022-11-21T00:23:01.591660",
     "status": "completed"
    },
    "tags": []
   },
   "outputs": [
    {
     "name": "stdout",
     "output_type": "stream",
     "text": [
      "\u001b[33mWARNING: Running pip as the 'root' user can result in broken permissions and conflicting behaviour with the system package manager. It is recommended to use a virtual environment instead: https://pip.pypa.io/warnings/venv\u001b[0m\u001b[33m\r\n",
      "\u001b[0m"
     ]
    }
   ],
   "source": [
    "!pip install -q timm pytorch-metric-learning[with-hooks]"
   ]
  },
  {
   "cell_type": "code",
   "execution_count": 2,
   "id": "592e8205",
   "metadata": {
    "execution": {
     "iopub.execute_input": "2022-11-21T00:23:18.363266Z",
     "iopub.status.busy": "2022-11-21T00:23:18.362201Z",
     "iopub.status.idle": "2022-11-21T00:23:22.712936Z",
     "shell.execute_reply": "2022-11-21T00:23:22.711774Z"
    },
    "papermill": {
     "duration": 4.36021,
     "end_time": "2022-11-21T00:23:22.715552",
     "exception": false,
     "start_time": "2022-11-21T00:23:18.355342",
     "status": "completed"
    },
    "tags": []
   },
   "outputs": [],
   "source": [
    "import os\n",
    "import glob\n",
    "import pandas as pd\n",
    "import numpy as np\n",
    "import logging\n",
    "import timm\n",
    "from tqdm.notebook import tqdm\n",
    "\n",
    "import torch\n",
    "import torch.nn as nn\n",
    "import torch.optim as optim\n",
    "\n",
    "from torch.utils.data import Dataset, DataLoader\n",
    "from torchvision.io import ImageReadMode, read_image\n",
    "from torchvision.transforms import Compose, Lambda, Normalize, AutoAugment, AutoAugmentPolicy\n",
    "\n",
    "import pytorch_metric_learning\n",
    "import pytorch_metric_learning.utils.logging_presets as LP\n",
    "from pytorch_metric_learning.utils import common_functions\n",
    "from pytorch_metric_learning import losses, miners, samplers, testers, trainers\n",
    "from pytorch_metric_learning.utils.accuracy_calculator import AccuracyCalculator\n",
    "from pytorch_metric_learning.utils.inference import InferenceModel"
   ]
  },
  {
   "cell_type": "code",
   "execution_count": 3,
   "id": "19adc638",
   "metadata": {
    "execution": {
     "iopub.execute_input": "2022-11-21T00:23:22.731744Z",
     "iopub.status.busy": "2022-11-21T00:23:22.730394Z",
     "iopub.status.idle": "2022-11-21T00:23:22.852816Z",
     "shell.execute_reply": "2022-11-21T00:23:22.851828Z"
    },
    "papermill": {
     "duration": 0.132122,
     "end_time": "2022-11-21T00:23:22.854873",
     "exception": false,
     "start_time": "2022-11-21T00:23:22.722751",
     "status": "completed"
    },
    "tags": []
   },
   "outputs": [
    {
     "data": {
      "text/plain": [
       "device(type='cuda')"
      ]
     },
     "execution_count": 3,
     "metadata": {},
     "output_type": "execute_result"
    }
   ],
   "source": [
    "device = torch.device(\"cuda\" if torch.cuda.is_available() else \"cpu\")\n",
    "device"
   ]
  },
  {
   "cell_type": "markdown",
   "id": "5c7aa99b",
   "metadata": {
    "papermill": {
     "duration": 0.005604,
     "end_time": "2022-11-21T00:23:22.866298",
     "exception": false,
     "start_time": "2022-11-21T00:23:22.860694",
     "status": "completed"
    },
    "tags": []
   },
   "source": [
    "### config"
   ]
  },
  {
   "cell_type": "code",
   "execution_count": 4,
   "id": "041b0675",
   "metadata": {
    "execution": {
     "iopub.execute_input": "2022-11-21T00:23:22.878709Z",
     "iopub.status.busy": "2022-11-21T00:23:22.878420Z",
     "iopub.status.idle": "2022-11-21T00:23:22.884532Z",
     "shell.execute_reply": "2022-11-21T00:23:22.883577Z"
    },
    "papermill": {
     "duration": 0.01464,
     "end_time": "2022-11-21T00:23:22.886480",
     "exception": false,
     "start_time": "2022-11-21T00:23:22.871840",
     "status": "completed"
    },
    "tags": []
   },
   "outputs": [],
   "source": [
    "MODEL_NAME='tf_efficientnet_b6_ns' # timmのmodel_name\n",
    "N_CLASSES=15587\n",
    "OUTPUT_SIZE = 2304\n",
    "EMBEDDING_SIZE = 512\n",
    "N_EPOCH=5\n",
    "BATCH_SIZE=8\n",
    "MODEL_LR = 1e-3\n",
    "PCT_START=0.3\n",
    "PATIENCE=5\n",
    "N_WORKER=2"
   ]
  },
  {
   "cell_type": "markdown",
   "id": "73fc0ce4",
   "metadata": {
    "papermill": {
     "duration": 0.005527,
     "end_time": "2022-11-21T00:23:22.898725",
     "exception": false,
     "start_time": "2022-11-21T00:23:22.893198",
     "status": "completed"
    },
    "tags": []
   },
   "source": [
    "### directories"
   ]
  },
  {
   "cell_type": "code",
   "execution_count": 5,
   "id": "72728287",
   "metadata": {
    "execution": {
     "iopub.execute_input": "2022-11-21T00:23:22.911984Z",
     "iopub.status.busy": "2022-11-21T00:23:22.911126Z",
     "iopub.status.idle": "2022-11-21T00:23:22.916163Z",
     "shell.execute_reply": "2022-11-21T00:23:22.915362Z"
    },
    "papermill": {
     "duration": 0.013805,
     "end_time": "2022-11-21T00:23:22.918089",
     "exception": false,
     "start_time": "2022-11-21T00:23:22.904284",
     "status": "completed"
    },
    "tags": []
   },
   "outputs": [],
   "source": [
    "TRAIN_DIR = '../input/jpeg-happywhale-384x384/train_images-384-384/train_images-384-384'\n",
    "TEST_DIR = '../input/jpeg-happywhale-384x384/test_images-384-384/test_images-384-384'\n",
    "LOG_DIR = f'/kaggle/working/logs/{MODEL_NAME}'\n",
    "MODEL_DIR = f'/kaggle/working/model/{MODEL_NAME}'"
   ]
  },
  {
   "cell_type": "markdown",
   "id": "0b548d54",
   "metadata": {
    "papermill": {
     "duration": 0.005233,
     "end_time": "2022-11-21T00:23:22.928823",
     "exception": false,
     "start_time": "2022-11-21T00:23:22.923590",
     "status": "completed"
    },
    "tags": []
   },
   "source": [
    "### Dataset"
   ]
  },
  {
   "cell_type": "code",
   "execution_count": 6,
   "id": "2d2067ed",
   "metadata": {
    "execution": {
     "iopub.execute_input": "2022-11-21T00:23:22.941974Z",
     "iopub.status.busy": "2022-11-21T00:23:22.940560Z",
     "iopub.status.idle": "2022-11-21T00:23:22.948345Z",
     "shell.execute_reply": "2022-11-21T00:23:22.947509Z"
    },
    "papermill": {
     "duration": 0.015958,
     "end_time": "2022-11-21T00:23:22.950249",
     "exception": false,
     "start_time": "2022-11-21T00:23:22.934291",
     "status": "completed"
    },
    "tags": []
   },
   "outputs": [],
   "source": [
    "class HappyWhaleDataset(Dataset):\n",
    "    def __init__(\n",
    "        self,\n",
    "        df: pd.DataFrame,\n",
    "        image_dir: str,\n",
    "        return_labels=True,\n",
    "    ):\n",
    "        self.df = df\n",
    "        self.images = self.df[\"image\"]\n",
    "        self.image_dir = image_dir\n",
    "        self.image_transform = Compose(\n",
    "            [\n",
    "                AutoAugment(AutoAugmentPolicy.IMAGENET),\n",
    "                Lambda(lambda x: x / 255),\n",
    "                \n",
    "            ]\n",
    "        )\n",
    "        self.return_labels = return_labels\n",
    "\n",
    "    def __len__(self):\n",
    "        return len(self.images)\n",
    "\n",
    "    def __getitem__(self, idx):\n",
    "        \n",
    "        image_path = os.path.join(self.image_dir, self.images.iloc[idx])\n",
    "        image = read_image(path=image_path)\n",
    "        image = self.image_transform(image)\n",
    "        \n",
    "        if self.return_labels:\n",
    "            label = self.df['label'].iloc[idx]\n",
    "            return image, label\n",
    "        else:\n",
    "            return image"
   ]
  },
  {
   "cell_type": "code",
   "execution_count": 7,
   "id": "cfcc3303",
   "metadata": {
    "execution": {
     "iopub.execute_input": "2022-11-21T00:23:22.962676Z",
     "iopub.status.busy": "2022-11-21T00:23:22.961941Z",
     "iopub.status.idle": "2022-11-21T00:23:23.097022Z",
     "shell.execute_reply": "2022-11-21T00:23:23.096099Z"
    },
    "papermill": {
     "duration": 0.143713,
     "end_time": "2022-11-21T00:23:23.099383",
     "exception": false,
     "start_time": "2022-11-21T00:23:22.955670",
     "status": "completed"
    },
    "tags": []
   },
   "outputs": [],
   "source": [
    "df = pd.read_csv('../input/happy-whale-and-dolphin/train.csv')\n",
    "df['label'] = df.groupby('individual_id').ngroup()\n",
    "\n",
    "valid_proportion = 0.05\n",
    "valid_df = df.sample(frac=valid_proportion, replace=False, random_state=1).copy()\n",
    "train_df = df[~df['image'].isin(valid_df['image'])].copy()\n",
    "\n",
    "train_df.reset_index(drop=True, inplace=True)\n",
    "valid_df.reset_index(drop=True, inplace=True)"
   ]
  },
  {
   "cell_type": "code",
   "execution_count": 8,
   "id": "0567f2fa",
   "metadata": {
    "execution": {
     "iopub.execute_input": "2022-11-21T00:23:23.115601Z",
     "iopub.status.busy": "2022-11-21T00:23:23.115240Z",
     "iopub.status.idle": "2022-11-21T00:23:23.122035Z",
     "shell.execute_reply": "2022-11-21T00:23:23.120989Z"
    },
    "papermill": {
     "duration": 0.016835,
     "end_time": "2022-11-21T00:23:23.124442",
     "exception": false,
     "start_time": "2022-11-21T00:23:23.107607",
     "status": "completed"
    },
    "tags": []
   },
   "outputs": [],
   "source": [
    "train_dataset = HappyWhaleDataset(df=train_df, image_dir=TRAIN_DIR, return_labels=True)\n",
    "valid_dataset = HappyWhaleDataset(df=valid_df, image_dir=TRAIN_DIR, return_labels=True)"
   ]
  },
  {
   "cell_type": "code",
   "execution_count": 9,
   "id": "d160d5e0",
   "metadata": {
    "execution": {
     "iopub.execute_input": "2022-11-21T00:23:23.136763Z",
     "iopub.status.busy": "2022-11-21T00:23:23.136491Z",
     "iopub.status.idle": "2022-11-21T00:23:23.140764Z",
     "shell.execute_reply": "2022-11-21T00:23:23.139805Z"
    },
    "papermill": {
     "duration": 0.012705,
     "end_time": "2022-11-21T00:23:23.142658",
     "exception": false,
     "start_time": "2022-11-21T00:23:23.129953",
     "status": "completed"
    },
    "tags": []
   },
   "outputs": [],
   "source": [
    "dataset_dict = {\"train\": train_dataset, \"val\": valid_dataset}"
   ]
  },
  {
   "cell_type": "markdown",
   "id": "716c874d",
   "metadata": {
    "papermill": {
     "duration": 0.00554,
     "end_time": "2022-11-21T00:23:23.153848",
     "exception": false,
     "start_time": "2022-11-21T00:23:23.148308",
     "status": "completed"
    },
    "tags": []
   },
   "source": [
    "### trunk"
   ]
  },
  {
   "cell_type": "code",
   "execution_count": 10,
   "id": "f45da7a1",
   "metadata": {
    "execution": {
     "iopub.execute_input": "2022-11-21T00:23:23.166495Z",
     "iopub.status.busy": "2022-11-21T00:23:23.166150Z",
     "iopub.status.idle": "2022-11-21T00:23:31.607559Z",
     "shell.execute_reply": "2022-11-21T00:23:31.606529Z"
    },
    "papermill": {
     "duration": 8.450869,
     "end_time": "2022-11-21T00:23:31.610388",
     "exception": false,
     "start_time": "2022-11-21T00:23:23.159519",
     "status": "completed"
    },
    "tags": []
   },
   "outputs": [
    {
     "name": "stderr",
     "output_type": "stream",
     "text": [
      "Downloading: \"https://github.com/rwightman/pytorch-image-models/releases/download/v0.1-weights/tf_efficientnet_b6_ns-51548356.pth\" to /root/.cache/torch/hub/checkpoints/tf_efficientnet_b6_ns-51548356.pth\n"
     ]
    }
   ],
   "source": [
    "trunk = timm.create_model(MODEL_NAME, pretrained=True)\n",
    "trunk.classifier = common_functions.Identity()\n",
    "trunk = trunk.to(device)"
   ]
  },
  {
   "cell_type": "markdown",
   "id": "97da9f3b",
   "metadata": {
    "papermill": {
     "duration": 0.005625,
     "end_time": "2022-11-21T00:23:31.622288",
     "exception": false,
     "start_time": "2022-11-21T00:23:31.616663",
     "status": "completed"
    },
    "tags": []
   },
   "source": [
    "### embedder"
   ]
  },
  {
   "cell_type": "code",
   "execution_count": 11,
   "id": "02e0072a",
   "metadata": {
    "execution": {
     "iopub.execute_input": "2022-11-21T00:23:31.634889Z",
     "iopub.status.busy": "2022-11-21T00:23:31.634596Z",
     "iopub.status.idle": "2022-11-21T00:23:31.649425Z",
     "shell.execute_reply": "2022-11-21T00:23:31.648587Z"
    },
    "papermill": {
     "duration": 0.023495,
     "end_time": "2022-11-21T00:23:31.651595",
     "exception": false,
     "start_time": "2022-11-21T00:23:31.628100",
     "status": "completed"
    },
    "tags": []
   },
   "outputs": [],
   "source": [
    "embedder = nn.Linear(OUTPUT_SIZE, EMBEDDING_SIZE).to(device)"
   ]
  },
  {
   "cell_type": "markdown",
   "id": "9545a1d8",
   "metadata": {
    "papermill": {
     "duration": 0.005591,
     "end_time": "2022-11-21T00:23:31.662598",
     "exception": false,
     "start_time": "2022-11-21T00:23:31.657007",
     "status": "completed"
    },
    "tags": []
   },
   "source": [
    "### loss function"
   ]
  },
  {
   "cell_type": "markdown",
   "id": "49c04e39",
   "metadata": {
    "papermill": {
     "duration": 0.005796,
     "end_time": "2022-11-21T00:23:31.674077",
     "exception": false,
     "start_time": "2022-11-21T00:23:31.668281",
     "status": "completed"
    },
    "tags": []
   },
   "source": [
    "https://kevinmusgrave.github.io/pytorch-metric-learning/losses/#arcfaceloss"
   ]
  },
  {
   "cell_type": "code",
   "execution_count": 12,
   "id": "70f3cc95",
   "metadata": {
    "execution": {
     "iopub.execute_input": "2022-11-21T00:23:31.687083Z",
     "iopub.status.busy": "2022-11-21T00:23:31.686150Z",
     "iopub.status.idle": "2022-11-21T00:23:31.766464Z",
     "shell.execute_reply": "2022-11-21T00:23:31.765546Z"
    },
    "papermill": {
     "duration": 0.088936,
     "end_time": "2022-11-21T00:23:31.768725",
     "exception": false,
     "start_time": "2022-11-21T00:23:31.679789",
     "status": "completed"
    },
    "tags": []
   },
   "outputs": [],
   "source": [
    "loss_func = losses.ArcFaceLoss(num_classes=N_CLASSES, embedding_size=EMBEDDING_SIZE).to(device)"
   ]
  },
  {
   "cell_type": "markdown",
   "id": "aa426aa4",
   "metadata": {
    "papermill": {
     "duration": 0.005928,
     "end_time": "2022-11-21T00:23:31.780563",
     "exception": false,
     "start_time": "2022-11-21T00:23:31.774635",
     "status": "completed"
    },
    "tags": []
   },
   "source": [
    "### optimizer"
   ]
  },
  {
   "cell_type": "code",
   "execution_count": 13,
   "id": "bd97ee50",
   "metadata": {
    "execution": {
     "iopub.execute_input": "2022-11-21T00:23:31.793512Z",
     "iopub.status.busy": "2022-11-21T00:23:31.793211Z",
     "iopub.status.idle": "2022-11-21T00:23:31.801638Z",
     "shell.execute_reply": "2022-11-21T00:23:31.800613Z"
    },
    "papermill": {
     "duration": 0.017415,
     "end_time": "2022-11-21T00:23:31.804092",
     "exception": false,
     "start_time": "2022-11-21T00:23:31.786677",
     "status": "completed"
    },
    "tags": []
   },
   "outputs": [],
   "source": [
    "trunk_optimizer = optim.Adam(trunk.parameters(), lr=0.005)\n",
    "embedder_optimizer = optim.Adam(embedder.parameters(), lr=0.001)\n",
    "loss_optimizer = optim.Adam(loss_func.parameters(), lr=0.001)"
   ]
  },
  {
   "cell_type": "code",
   "execution_count": 14,
   "id": "f4078d97",
   "metadata": {
    "execution": {
     "iopub.execute_input": "2022-11-21T00:23:31.817547Z",
     "iopub.status.busy": "2022-11-21T00:23:31.817013Z",
     "iopub.status.idle": "2022-11-21T00:23:31.821205Z",
     "shell.execute_reply": "2022-11-21T00:23:31.820352Z"
    },
    "papermill": {
     "duration": 0.013277,
     "end_time": "2022-11-21T00:23:31.823464",
     "exception": false,
     "start_time": "2022-11-21T00:23:31.810187",
     "status": "completed"
    },
    "tags": []
   },
   "outputs": [],
   "source": [
    "optimizers = {\n",
    "    \"trunk_optimizer\": trunk_optimizer,\n",
    "    \"embedder_optimizer\": embedder_optimizer,\n",
    "    \"loss_optimizer\": loss_optimizer,\n",
    "}"
   ]
  },
  {
   "cell_type": "markdown",
   "id": "79b2ed7c",
   "metadata": {
    "papermill": {
     "duration": 0.00582,
     "end_time": "2022-11-21T00:23:31.835366",
     "exception": false,
     "start_time": "2022-11-21T00:23:31.829546",
     "status": "completed"
    },
    "tags": []
   },
   "source": [
    "### logging, hooks, tester"
   ]
  },
  {
   "cell_type": "code",
   "execution_count": 15,
   "id": "1b6c52e8",
   "metadata": {
    "execution": {
     "iopub.execute_input": "2022-11-21T00:23:31.848716Z",
     "iopub.status.busy": "2022-11-21T00:23:31.847817Z",
     "iopub.status.idle": "2022-11-21T00:23:32.066576Z",
     "shell.execute_reply": "2022-11-21T00:23:32.065594Z"
    },
    "papermill": {
     "duration": 0.228092,
     "end_time": "2022-11-21T00:23:32.068953",
     "exception": false,
     "start_time": "2022-11-21T00:23:31.840861",
     "status": "completed"
    },
    "tags": []
   },
   "outputs": [],
   "source": [
    "record_keeper, _, _ = LP.get_record_keeper(LOG_DIR)\n",
    "hooks = LP.get_hook_container(record_keeper, primary_metric='mean_average_precision')"
   ]
  },
  {
   "cell_type": "code",
   "execution_count": 16,
   "id": "4ba8cd20",
   "metadata": {
    "execution": {
     "iopub.execute_input": "2022-11-21T00:23:32.082425Z",
     "iopub.status.busy": "2022-11-21T00:23:32.082101Z",
     "iopub.status.idle": "2022-11-21T00:23:32.087578Z",
     "shell.execute_reply": "2022-11-21T00:23:32.086402Z"
    },
    "papermill": {
     "duration": 0.0146,
     "end_time": "2022-11-21T00:23:32.089717",
     "exception": false,
     "start_time": "2022-11-21T00:23:32.075117",
     "status": "completed"
    },
    "tags": []
   },
   "outputs": [],
   "source": [
    "tester = testers.GlobalEmbeddingSpaceTester(\n",
    "    end_of_testing_hook=hooks.end_of_testing_hook,\n",
    "    accuracy_calculator=AccuracyCalculator(\n",
    "        include=['mean_average_precision'],\n",
    "        device=torch.device(\"cpu\"),\n",
    "        k=5),\n",
    "    dataloader_num_workers=N_WORKER,\n",
    "    batch_size=BATCH_SIZE\n",
    ")"
   ]
  },
  {
   "cell_type": "markdown",
   "id": "24d2ab35",
   "metadata": {
    "papermill": {
     "duration": 0.00549,
     "end_time": "2022-11-21T00:23:32.100879",
     "exception": false,
     "start_time": "2022-11-21T00:23:32.095389",
     "status": "completed"
    },
    "tags": []
   },
   "source": [
    "https://kevinmusgrave.github.io/pytorch-metric-learning/logging_presets/"
   ]
  },
  {
   "cell_type": "code",
   "execution_count": 17,
   "id": "5d8af93c",
   "metadata": {
    "execution": {
     "iopub.execute_input": "2022-11-21T00:23:32.113543Z",
     "iopub.status.busy": "2022-11-21T00:23:32.113244Z",
     "iopub.status.idle": "2022-11-21T00:23:32.118587Z",
     "shell.execute_reply": "2022-11-21T00:23:32.117618Z"
    },
    "papermill": {
     "duration": 0.014023,
     "end_time": "2022-11-21T00:23:32.120666",
     "exception": false,
     "start_time": "2022-11-21T00:23:32.106643",
     "status": "completed"
    },
    "tags": []
   },
   "outputs": [],
   "source": [
    "end_of_epoch_hook = hooks.end_of_epoch_hook(\n",
    "    tester, \n",
    "    dataset_dict,\n",
    "    MODEL_DIR,\n",
    "    test_interval=1, \n",
    "    patience=PATIENCE, \n",
    "    splits_to_eval = [('val', ['train'])]\n",
    ")"
   ]
  },
  {
   "cell_type": "markdown",
   "id": "35374106",
   "metadata": {
    "papermill": {
     "duration": 0.005242,
     "end_time": "2022-11-21T00:23:32.131781",
     "exception": false,
     "start_time": "2022-11-21T00:23:32.126539",
     "status": "completed"
    },
    "tags": []
   },
   "source": [
    "## Trainers"
   ]
  },
  {
   "cell_type": "code",
   "execution_count": 18,
   "id": "362c2f8e",
   "metadata": {
    "execution": {
     "iopub.execute_input": "2022-11-21T00:23:32.145384Z",
     "iopub.status.busy": "2022-11-21T00:23:32.143811Z",
     "iopub.status.idle": "2022-11-21T00:23:32.150331Z",
     "shell.execute_reply": "2022-11-21T00:23:32.149391Z"
    },
    "papermill": {
     "duration": 0.015127,
     "end_time": "2022-11-21T00:23:32.152420",
     "exception": false,
     "start_time": "2022-11-21T00:23:32.137293",
     "status": "completed"
    },
    "tags": []
   },
   "outputs": [],
   "source": [
    "trainer = trainers.MetricLossOnly(\n",
    "    models={\"trunk\": trunk, \"embedder\": embedder},\n",
    "    optimizers={\"trunk_optimizer\": trunk_optimizer, \"embedder_optimizer\": embedder_optimizer, \"metric_loss_optimizer\": loss_optimizer},\n",
    "    batch_size=BATCH_SIZE,\n",
    "    loss_funcs={\"metric_loss\": loss_func},\n",
    "    mining_funcs={}, # empty dict\n",
    "    dataset=train_dataset,\n",
    "    dataloader_num_workers=N_WORKER,\n",
    "    end_of_epoch_hook=end_of_epoch_hook,\n",
    ")"
   ]
  },
  {
   "cell_type": "code",
   "execution_count": 19,
   "id": "f1c2b04b",
   "metadata": {
    "execution": {
     "iopub.execute_input": "2022-11-21T00:23:32.165665Z",
     "iopub.status.busy": "2022-11-21T00:23:32.164880Z",
     "iopub.status.idle": "2022-11-21T07:36:05.678042Z",
     "shell.execute_reply": "2022-11-21T07:36:05.676725Z"
    },
    "papermill": {
     "duration": 25953.522344,
     "end_time": "2022-11-21T07:36:05.680788",
     "exception": false,
     "start_time": "2022-11-21T00:23:32.158444",
     "status": "completed"
    },
    "tags": []
   },
   "outputs": [
    {
     "name": "stderr",
     "output_type": "stream",
     "text": [
      "total_loss=41.68263: 100%|██████████| 6060/6060 [1:07:53<00:00,  1.49it/s]\n",
      "100%|██████████| 6061/6061 [17:07<00:00,  5.90it/s]\n",
      "100%|██████████| 319/319 [00:54<00:00,  5.80it/s]\n",
      "total_loss=36.22073: 100%|██████████| 6060/6060 [1:08:07<00:00,  1.48it/s]\n",
      "100%|██████████| 6061/6061 [17:14<00:00,  5.86it/s]\n",
      "100%|██████████| 319/319 [00:54<00:00,  5.84it/s]\n",
      "total_loss=33.38531: 100%|██████████| 6060/6060 [1:08:26<00:00,  1.48it/s]\n",
      "100%|██████████| 6061/6061 [17:11<00:00,  5.87it/s]\n",
      "100%|██████████| 319/319 [00:53<00:00,  5.95it/s]\n",
      "total_loss=28.89172: 100%|██████████| 6060/6060 [1:08:21<00:00,  1.48it/s]\n",
      "100%|██████████| 6061/6061 [17:19<00:00,  5.83it/s]\n",
      "100%|██████████| 319/319 [00:55<00:00,  5.79it/s]\n",
      "total_loss=22.93649: 100%|██████████| 6060/6060 [1:08:34<00:00,  1.47it/s]\n",
      "100%|██████████| 6061/6061 [17:18<00:00,  5.84it/s]\n",
      "100%|██████████| 319/319 [00:55<00:00,  5.77it/s]\n"
     ]
    }
   ],
   "source": [
    "trainer.train(num_epochs=N_EPOCH)"
   ]
  }
 ],
 "metadata": {
  "kernelspec": {
   "display_name": "Python 3",
   "language": "python",
   "name": "python3"
  },
  "language_info": {
   "codemirror_mode": {
    "name": "ipython",
    "version": 3
   },
   "file_extension": ".py",
   "mimetype": "text/x-python",
   "name": "python",
   "nbconvert_exporter": "python",
   "pygments_lexer": "ipython3",
   "version": "3.7.12"
  },
  "papermill": {
   "default_parameters": {},
   "duration": 26000.704252,
   "end_time": "2022-11-21T07:36:13.739358",
   "environment_variables": {},
   "exception": null,
   "input_path": "__notebook__.ipynb",
   "output_path": "__notebook__.ipynb",
   "parameters": {},
   "start_time": "2022-11-21T00:22:53.035106",
   "version": "2.3.4"
  }
 },
 "nbformat": 4,
 "nbformat_minor": 5
}
